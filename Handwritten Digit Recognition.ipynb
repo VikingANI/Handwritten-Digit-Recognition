{
 "cells": [
  {
   "cell_type": "code",
   "execution_count": 7,
   "id": "ebd2b7da",
   "metadata": {},
   "outputs": [
    {
     "name": "stdout",
     "output_type": "stream",
     "text": [
      "Model: \"sequential\"\n",
      "_________________________________________________________________\n",
      " Layer (type)                Output Shape              Param #   \n",
      "=================================================================\n",
      " conv2d_5 (Conv2D)           (None, 26, 26, 32)        320       \n",
      "                                                                 \n",
      " max_pooling2d (MaxPooling2D  (None, 13, 13, 32)       0         \n",
      " )                                                               \n",
      "                                                                 \n",
      " conv2d_6 (Conv2D)           (None, 11, 11, 64)        18496     \n",
      "                                                                 \n",
      " max_pooling2d_1 (MaxPooling  (None, 5, 5, 64)         0         \n",
      " 2D)                                                             \n",
      "                                                                 \n",
      " conv2d_7 (Conv2D)           (None, 3, 3, 64)          36928     \n",
      "                                                                 \n",
      " flatten (Flatten)           (None, 576)               0         \n",
      "                                                                 \n",
      " dense (Dense)               (None, 64)                36928     \n",
      "                                                                 \n",
      " dense_1 (Dense)             (None, 10)                650       \n",
      "                                                                 \n",
      "=================================================================\n",
      "Total params: 93,322\n",
      "Trainable params: 93,322\n",
      "Non-trainable params: 0\n",
      "_________________________________________________________________\n"
     ]
    }
   ],
   "source": [
    "from tensorflow.keras import layers\n",
    "from tensorflow.keras import models\n",
    "from keras.datasets import mnist\n",
    "from keras.utils import to_categorical\n",
    "\n",
    "(train_images, train_labels), (test_images, test_labels) = mnist.load_data()\n",
    "\n",
    "model = models.Sequential()\n",
    "model.add(layers.Conv2D(32, (3, 3), activation='relu', input_shape=(28, 28, 1)))\n",
    "model.add(layers.MaxPooling2D((2, 2)))\n",
    "model.add(layers.Conv2D(64, (3, 3), activation='relu'))\n",
    "model.add(layers.MaxPooling2D((2, 2)))\n",
    "model.add(layers.Conv2D(64, (3, 3), activation='relu'))\n",
    "\n",
    "model.add(layers.Flatten())\n",
    "model.add(layers.Dense(64, activation='relu'))\n",
    "model.add(layers.Dense(10, activation='softmax'))\n",
    "model.summary()"
   ]
  },
  {
   "cell_type": "code",
   "execution_count": 8,
   "id": "87d15187",
   "metadata": {},
   "outputs": [
    {
     "name": "stdout",
     "output_type": "stream",
     "text": [
      "Epoch 1/10\n",
      "938/938 [==============================] - 42s 42ms/step - loss: 0.2618 - accuracy: 0.9431\n",
      "Epoch 2/10\n",
      "938/938 [==============================] - 37s 39ms/step - loss: 0.0568 - accuracy: 0.9823\n",
      "Epoch 3/10\n",
      "938/938 [==============================] - 38s 40ms/step - loss: 0.0432 - accuracy: 0.9870\n",
      "Epoch 4/10\n",
      "938/938 [==============================] - 35s 37ms/step - loss: 0.0357 - accuracy: 0.9888\n",
      "Epoch 5/10\n",
      "938/938 [==============================] - 35s 38ms/step - loss: 0.0299 - accuracy: 0.9906\n",
      "Epoch 6/10\n",
      "938/938 [==============================] - 38s 40ms/step - loss: 0.0281 - accuracy: 0.9916\n",
      "Epoch 7/10\n",
      "938/938 [==============================] - 37s 39ms/step - loss: 0.0244 - accuracy: 0.9926\n",
      "Epoch 8/10\n",
      "938/938 [==============================] - 36s 38ms/step - loss: 0.0211 - accuracy: 0.9930\n",
      "Epoch 9/10\n",
      "938/938 [==============================] - 39s 41ms/step - loss: 0.0243 - accuracy: 0.9924\n",
      "Epoch 10/10\n",
      "938/938 [==============================] - 43s 46ms/step - loss: 0.0194 - accuracy: 0.9940\n",
      "313/313 [==============================] - 4s 11ms/step - loss: 0.0400 - accuracy: 0.9896\n",
      "0.9896000027656555\n"
     ]
    }
   ],
   "source": [
    "train_images=train_images.reshape((60000,28,28,1))\n",
    "train_images.astype('float32')/255 #scaling of datasets\n",
    "\n",
    "\n",
    "test_images=test_images.reshape((10000,28,28,1))\n",
    "test_images.astype('float32')/255 #scaling of datasets\n",
    "\n",
    "train_labels=to_categorical(train_labels)\n",
    "test_labels=to_categorical(test_labels)\n",
    "\n",
    "model.compile(optimizer='adam',loss='categorical_crossentropy',metrics=['accuracy'])\n",
    "\n",
    "model.fit(train_images,train_labels,epochs=10,batch_size=64)\n",
    "\n",
    "test_loss,test_acc=model.evaluate(test_images,test_labels)\n",
    "\n",
    "print(test_acc)\n",
    "\n",
    "model.save('mnist.h5')\n",
    "\n"
   ]
  }
 ],
 "metadata": {
  "kernelspec": {
   "display_name": "Python 3 (ipykernel)",
   "language": "python",
   "name": "python3"
  },
  "language_info": {
   "codemirror_mode": {
    "name": "ipython",
    "version": 3
   },
   "file_extension": ".py",
   "mimetype": "text/x-python",
   "name": "python",
   "nbconvert_exporter": "python",
   "pygments_lexer": "ipython3",
   "version": "3.9.13"
  }
 },
 "nbformat": 4,
 "nbformat_minor": 5
}
